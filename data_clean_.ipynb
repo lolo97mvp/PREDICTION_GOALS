{
 "cells": [
  {
   "cell_type": "code",
   "execution_count": 107,
   "id": "e2acef63-217b-4614-95ae-b4254d982925",
   "metadata": {},
   "outputs": [],
   "source": [
    "#Initialize SparkSession and SparkContext\n",
    "from pyspark.sql import SparkSession\n",
    "from pyspark.sql import functions as f\n",
    "#from pyspark import SparkContext\n",
    "\n",
    "#Create a Spark Session\n",
    "spark = SparkSession \\\n",
    "    .builder \\\n",
    "    .master(\"local[*]\") \\\n",
    "    .appName(\"Test-spark\") \\\n",
    "    .config(\"spark.executor.memory\", \"6g\") \\\n",
    "    .config(\"spark.cores.max\",\"4\") \\\n",
    "    .getOrCreate()\n",
    "\n",
    "\n",
    "#Get the Spark Context from Spark Session    \n",
    "sc = spark.sparkContext"
   ]
  },
  {
   "cell_type": "code",
   "execution_count": 108,
   "id": "dcefb147-9e02-4cae-8cdb-53c9fc6f4b31",
   "metadata": {},
   "outputs": [
    {
     "data": {
      "text/html": [
       "\n",
       "        <div>\n",
       "            <p><b>SparkContext</b></p>\n",
       "\n",
       "            <p><a href=\"http://LoloVazquez:4040\">Spark UI</a></p>\n",
       "\n",
       "            <dl>\n",
       "              <dt>Version</dt>\n",
       "                <dd><code>v3.3.1</code></dd>\n",
       "              <dt>Master</dt>\n",
       "                <dd><code>local[*]</code></dd>\n",
       "              <dt>AppName</dt>\n",
       "                <dd><code>Test-spark</code></dd>\n",
       "            </dl>\n",
       "        </div>\n",
       "        "
      ],
      "text/plain": [
       "<SparkContext master=local[*] appName=Test-spark>"
      ]
     },
     "execution_count": 108,
     "metadata": {},
     "output_type": "execute_result"
    }
   ],
   "source": [
    "sc"
   ]
  },
  {
   "cell_type": "code",
   "execution_count": 109,
   "id": "35de4d29-1b2c-45c0-b85b-356e092d333d",
   "metadata": {},
   "outputs": [
    {
     "data": {
      "text/plain": [
       "[('spark.driver.extraJavaOptions',\n",
       "  '-XX:+IgnoreUnrecognizedVMOptions --add-opens=java.base/java.lang=ALL-UNNAMED --add-opens=java.base/java.lang.invoke=ALL-UNNAMED --add-opens=java.base/java.lang.reflect=ALL-UNNAMED --add-opens=java.base/java.io=ALL-UNNAMED --add-opens=java.base/java.net=ALL-UNNAMED --add-opens=java.base/java.nio=ALL-UNNAMED --add-opens=java.base/java.util=ALL-UNNAMED --add-opens=java.base/java.util.concurrent=ALL-UNNAMED --add-opens=java.base/java.util.concurrent.atomic=ALL-UNNAMED --add-opens=java.base/sun.nio.ch=ALL-UNNAMED --add-opens=java.base/sun.nio.cs=ALL-UNNAMED --add-opens=java.base/sun.security.action=ALL-UNNAMED --add-opens=java.base/sun.util.calendar=ALL-UNNAMED --add-opens=java.security.jgss/sun.security.krb5=ALL-UNNAMED'),\n",
       " ('spark.app.name', 'Test-spark'),\n",
       " ('spark.app.id', 'local-1676641408088'),\n",
       " ('spark.driver.port', '50211'),\n",
       " ('spark.executor.id', 'driver'),\n",
       " ('spark.app.submitTime', '1676637870756'),\n",
       " ('spark.cores.max', '4'),\n",
       " ('spark.executor.memory', '6g'),\n",
       " ('spark.app.startTime', '1676641408019'),\n",
       " ('spark.rdd.compress', 'True'),\n",
       " ('spark.executor.extraJavaOptions',\n",
       "  '-XX:+IgnoreUnrecognizedVMOptions --add-opens=java.base/java.lang=ALL-UNNAMED --add-opens=java.base/java.lang.invoke=ALL-UNNAMED --add-opens=java.base/java.lang.reflect=ALL-UNNAMED --add-opens=java.base/java.io=ALL-UNNAMED --add-opens=java.base/java.net=ALL-UNNAMED --add-opens=java.base/java.nio=ALL-UNNAMED --add-opens=java.base/java.util=ALL-UNNAMED --add-opens=java.base/java.util.concurrent=ALL-UNNAMED --add-opens=java.base/java.util.concurrent.atomic=ALL-UNNAMED --add-opens=java.base/sun.nio.ch=ALL-UNNAMED --add-opens=java.base/sun.nio.cs=ALL-UNNAMED --add-opens=java.base/sun.security.action=ALL-UNNAMED --add-opens=java.base/sun.util.calendar=ALL-UNNAMED --add-opens=java.security.jgss/sun.security.krb5=ALL-UNNAMED'),\n",
       " ('spark.serializer.objectStreamReset', '100'),\n",
       " ('spark.master', 'local[*]'),\n",
       " ('spark.submit.pyFiles', ''),\n",
       " ('spark.submit.deployMode', 'client'),\n",
       " ('spark.driver.host', 'LoloVazquez'),\n",
       " ('spark.ui.showConsoleProgress', 'true')]"
      ]
     },
     "execution_count": 109,
     "metadata": {},
     "output_type": "execute_result"
    }
   ],
   "source": [
    "sc.getConf().getAll()"
   ]
  },
  {
   "cell_type": "markdown",
   "id": "24b34e5c-7346-4157-9d4a-ad1f3685de8c",
   "metadata": {},
   "source": [
    "-- UNDERSTAT --"
   ]
  },
  {
   "cell_type": "code",
   "execution_count": 110,
   "id": "177fced8-7fe9-4ae9-bce7-72a9d7329137",
   "metadata": {},
   "outputs": [],
   "source": [
    "myDF1 = spark.read.format('csv') \\\n",
    ".option('inferSchema', 'true') \\\n",
    ".option('delimiter', ',') \\\n",
    ".option('header','true') \\\n",
    ".load('../webscrapingtfm/Stats_Understat.csv')\n",
    "myDF1bis = spark.read.format('csv') \\\n",
    ".option('inferSchema', 'true') \\\n",
    ".option('delimiter', ',') \\\n",
    ".option('header','true') \\\n",
    ".load('../webscrapingtfm/Stats_Understat_18_19.csv')\n",
    "\n",
    "myDF1 = myDF1.union(myDF1bis)\n",
    "myDF1.createOrReplaceTempView(\"UnderstatTable\")"
   ]
  },
  {
   "cell_type": "code",
   "execution_count": 111,
   "id": "cfdb36f1-28b4-4703-8b85-2af640a647b3",
   "metadata": {},
   "outputs": [
    {
     "name": "stdout",
     "output_type": "stream",
     "text": [
      "+---+---------+----+---+---+---+---+----------+----------+-----+----+-----+----+---------------+\n",
      "| Nº|Formation| Min| Sh|  G|ShA| GA|        xG|       xGA|  xGD|xG90|xGA90| Año|           Club|\n",
      "+---+---------+----+---+---+---+---+----------+----------+-----+----+-----+----+---------------+\n",
      "|  1|    4-3-3|1458|256| 31|115|  5|40.30+9.30|12.15+7.15|28.15|2.49| 0.75|2022|      Barcelona|\n",
      "|  2|  3-2-4-1|  76| 14|  3|  9|  1| 1.48-1.52| 0.78-0.22| 0.71|1.76| 0.92|2022|      Barcelona|\n",
      "|  3|  4-4-1-1|  64|  6|  2| 10|  0| 0.84-1.16| 0.91+0.91|-0.07|1.18| 1.28|2022|      Barcelona|\n",
      "|  4|  3-1-4-2|  12|  0|  0|  2|  0|      0.00| 0.10+0.10| -0.1| 0.0| 0.77|2022|      Barcelona|\n",
      "|  1|    4-3-3|1605|277| 38|199| 16|36.91-1.09|19.23+3.23|17.67|2.07| 1.08|2022|    Real_Madrid|\n",
      "|  2|  4-2-3-1|  16|  6|  0|  1|  0| 0.60+0.60| 0.06+0.06| 0.55| 3.4| 0.32|2022|    Real_Madrid|\n",
      "|  3|    3-4-3|   7|  3|  0|  1|  0| 0.66+0.66| 0.01+0.01| 0.64|8.46| 0.19|2022|    Real_Madrid|\n",
      "|  1|  4-1-3-2| 760|108| 11| 73|  5|14.96+3.96| 5.62+0.62| 9.34|1.77| 0.67|2022|  Real_Sociedad|\n",
      "|  2|4-1-2-1-2| 458| 54|  6| 63|  7| 7.05+1.05| 7.19+0.19|-0.13|1.39| 1.41|2022|  Real_Sociedad|\n",
      "|  3|    4-4-2| 290| 29|  7| 42|  5| 4.98-2.02| 2.33-2.67| 2.64|1.54| 0.72|2022|  Real_Sociedad|\n",
      "|  4|  4-2-3-1|  99| 15|  1|  7|  0| 2.64+1.64| 0.29+0.29| 2.35| 2.4| 0.27|2022|  Real_Sociedad|\n",
      "|  5|    4-3-3|  56| 12|  0|  4|  1| 1.41+1.41| 0.18-0.82| 1.23|2.26| 0.28|2022|  Real_Sociedad|\n",
      "|  6|  4-3-1-2|  51|  7|  3|  2|  0| 1.81-1.19| 0.52+0.52| 1.29|3.19| 0.92|2022|  Real_Sociedad|\n",
      "|  1|    4-4-2| 533| 72|  5| 60|  4| 6.19+1.19| 6.44+2.44|-0.25|1.05| 1.09|2022|Atletico_Madrid|\n",
      "|  2|    5-3-2| 312| 38|  8| 40|  1| 5.54-2.46| 3.18+2.18| 2.36| 1.6| 0.92|2022|Atletico_Madrid|\n",
      "|  3|  4-1-4-1| 243| 44|  5| 25|  1| 7.85+2.85| 1.75+0.75|  6.1|2.91| 0.65|2022|Atletico_Madrid|\n",
      "|  4|  3-1-4-2| 196| 29|  1| 31|  3| 3.93+2.93| 3.74+0.74| 0.18| 1.8| 1.72|2022|Atletico_Madrid|\n",
      "|  5|    3-5-2| 163| 26|  2| 14|  5| 3.28+1.28| 2.71-2.29| 0.57|1.81| 1.49|2022|Atletico_Madrid|\n",
      "|  6|    5-4-1| 128| 23|  3| 18|  1| 3.72+0.72| 0.84-0.16| 2.88|2.61| 0.59|2022|Atletico_Madrid|\n",
      "|  7|  3-4-2-1|  90| 25|  2|  5|  0| 2.31+0.31| 0.09+0.09| 2.22|2.31| 0.09|2022|Atletico_Madrid|\n",
      "+---+---------+----+---+---+---+---+----------+----------+-----+----+-----+----+---------------+\n",
      "only showing top 20 rows\n",
      "\n"
     ]
    }
   ],
   "source": [
    "spark.sql(\"SELECT * FROM UnderstatTable\").show()"
   ]
  },
  {
   "cell_type": "markdown",
   "id": "b9c540f2-ac8a-430a-a3e5-b2a89dfb282b",
   "metadata": {},
   "source": [
    "Formaciones en el fútbol puede haber tantas como uno quiera, pero hay algunas que tan solo son pequeñas variantes de otras.\n",
    "Por tanto, para simplificar el análisis vamos a quedarnos únicamente con las formaciones primarias."
   ]
  },
  {
   "cell_type": "code",
   "execution_count": 112,
   "id": "8f51e143-5d2e-422b-b633-4795b5afeec5",
   "metadata": {},
   "outputs": [
    {
     "name": "stdout",
     "output_type": "stream",
     "text": [
      "+-------------------------+\n",
      "|count(DISTINCT Formation)|\n",
      "+-------------------------+\n",
      "|                       22|\n",
      "+-------------------------+\n",
      "\n",
      "+---------+\n",
      "|Formation|\n",
      "+---------+\n",
      "|    4-5-1|\n",
      "|  4-2-4-0|\n",
      "|    5-4-1|\n",
      "|    3-5-2|\n",
      "|  3-3-3-1|\n",
      "|  3-4-2-1|\n",
      "|  4-1-3-2|\n",
      "|    4-3-3|\n",
      "|  4-2-2-2|\n",
      "|    3-4-3|\n",
      "|    5-3-2|\n",
      "|  3-4-1-2|\n",
      "|  3-5-1-1|\n",
      "|  4-2-3-1|\n",
      "|4-1-2-1-2|\n",
      "|  4-3-2-1|\n",
      "|    4-4-2|\n",
      "|  3-2-4-1|\n",
      "|  4-3-1-2|\n",
      "|  3-1-4-2|\n",
      "|  4-1-4-1|\n",
      "|  4-4-1-1|\n",
      "+---------+\n",
      "\n"
     ]
    }
   ],
   "source": [
    "spark.sql(\"SELECT COUNT(DISTINCT(Formation)) FROM UnderstatTable\").show()\n",
    "spark.sql(\"SELECT DISTINCT(Formation) FROM UnderstatTable\").show(22)"
   ]
  },
  {
   "cell_type": "code",
   "execution_count": 113,
   "id": "b88955e3-867f-4fcf-b0bb-c0e59994bd20",
   "metadata": {},
   "outputs": [
    {
     "name": "stdout",
     "output_type": "stream",
     "text": [
      "+--------+----+---------+--------+-------+------+--------+-------+\n",
      "|    Club| Año|Formation|sum(Min)|sum(Sh)|sum(G)|sum(ShA)|sum(GA)|\n",
      "+--------+----+---------+--------+-------+------+--------+-------+\n",
      "|AC Milan|2022|  4-2-3-1|    1489|    248|    31|     183|     22|\n",
      "|AC Milan|2022|    4-3-3|     103|     21|     2|      11|      0|\n",
      "|AC Milan|2022|    5-3-2|      81|     10|     1|      11|      2|\n",
      "|AC Milan|2022|    3-5-2|      60|     13|     0|       2|      0|\n",
      "|AC Milan|2022|    4-4-2|      37|      6|     1|       2|      0|\n",
      "|AC Milan|2022|    3-4-3|      35|      3|     0|       4|      0|\n",
      "|AC Milan|2022|    5-4-1|      10|      2|     0|       4|      0|\n",
      "| Ajaccio|2022|    4-4-2|    1629|    181|    15|     186|     26|\n",
      "| Ajaccio|2022|    4-3-3|      86|      3|     0|       9|      3|\n",
      "| Ajaccio|2022|    5-4-1|      48|      2|     1|       6|      5|\n",
      "| Ajaccio|2022|    4-5-1|      18|      0|     0|       5|      0|\n",
      "| Almeria|2022|    4-3-3|     863|    118|    12|     104|     12|\n",
      "| Almeria|2022|    5-3-2|     450|     43|     2|      88|     11|\n",
      "| Almeria|2022|  4-2-3-1|     267|     29|     6|      35|      3|\n",
      "| Almeria|2022|    3-5-2|     191|     23|     3|      26|      2|\n",
      "| Almeria|2022|    4-4-2|      14|      1|     0|       0|      0|\n",
      "| Almeria|2022|    3-4-3|      14|      4|     0|       4|      1|\n",
      "| Almeria|2022|    5-4-1|      13|      2|     0|       1|      0|\n",
      "| Almeria|2022|    4-5-1|       6|      1|     0|       1|      0|\n",
      "|  Angers|2022|  4-2-3-1|     770|     93|     6|      93|     11|\n",
      "+--------+----+---------+--------+-------+------+--------+-------+\n",
      "only showing top 20 rows\n",
      "\n"
     ]
    }
   ],
   "source": [
    "DFUnderstat = myDF1\n",
    "DFUnderstat = myDF1.drop('Nº', 'xG', 'xGA', 'xGD', 'xG90', 'xGA90') \\\n",
    "                            .withColumn('Club',f.regexp_replace('Club','_',' ')) \\\n",
    "                            .withColumn('Formation', f.when(DFUnderstat.Formation == \"4-2-4-0\",\"4-4-2\")\n",
    "                                .when(DFUnderstat.Formation == \"3-3-3-1\",\"3-4-3\")\n",
    "                                .when(DFUnderstat.Formation == \"4-2-2-2\",\"4-4-2\")\n",
    "                                .when(DFUnderstat.Formation == \"3-4-2-1\",\"3-4-3\")\n",
    "                                .when(DFUnderstat.Formation == \"3-4-1-2\",\"3-5-2\")\n",
    "                                .when(DFUnderstat.Formation == \"3-5-1-1\",\"3-4-3\")\n",
    "                                .when(DFUnderstat.Formation == \"4-1-2-1-2\",\"4-3-1-2\")\n",
    "                                .when(DFUnderstat.Formation == \"4-1-3-2\",\"4-3-1-2\")\n",
    "                                .when(DFUnderstat.Formation == \"4-3-2-1\",\"4-3-3\")\n",
    "                                .when(DFUnderstat.Formation == \"3-2-4-1\",\"3-4-3\")\n",
    "                                .when(DFUnderstat.Formation == \"3-1-4-2\",\"3-5-2\")\n",
    "                                .when(DFUnderstat.Formation == \"4-1-4-1\",\"4-3-3\")\n",
    "                                .when(DFUnderstat.Formation == \"4-4-1-1\",\"4-5-1\")\n",
    "                                .otherwise(DFUnderstat.Formation)) \\\n",
    "                            .groupBy('Club','Año','Formation') \\\n",
    "                            .agg(f.sum('Min'),f.sum('Sh'),f.sum('G'),f.sum('ShA'),f.sum('GA')) \\\n",
    "                            .orderBy(f.desc('Año'),'Club',f.desc('sum(Min)'))\n",
    "DFUnderstat.show()"
   ]
  },
  {
   "cell_type": "code",
   "execution_count": 114,
   "id": "9615b324-d8b3-457a-92cf-8778ded97fc0",
   "metadata": {},
   "outputs": [
    {
     "data": {
      "text/plain": [
       "487"
      ]
     },
     "execution_count": 114,
     "metadata": {},
     "output_type": "execute_result"
    }
   ],
   "source": [
    "#DFUnderstat.where(DFUnderstat['Año'] == '2020').count()\n",
    "#DFUnderstat.where(DFUnderstat['Año'] == '2021').count()\n",
    "DFUnderstat.where(DFUnderstat['Año'] == '2022').count()"
   ]
  },
  {
   "cell_type": "markdown",
   "id": "53b7eeef-8370-4ab3-9662-c9cf5d93b091",
   "metadata": {},
   "source": [
    "-- TRANSFERMARKT --"
   ]
  },
  {
   "cell_type": "code",
   "execution_count": 115,
   "id": "460d86b8-71bc-47cc-86f7-7d1e0c2d0f42",
   "metadata": {},
   "outputs": [],
   "source": [
    "myDF2 = spark.read.format('csv') \\\n",
    ".option('inferSchema', 'true') \\\n",
    ".option('delimiter', ',') \\\n",
    ".option('header','true') \\\n",
    ".load('../webscrapingtfm/Stats_Transfermarktt_clean_sep.csv')\n",
    "myDF2bis = spark.read.format('csv') \\\n",
    ".option('inferSchema', 'true') \\\n",
    ".option('delimiter', ',') \\\n",
    ".option('header','true') \\\n",
    ".load('../webscrapingtfm/Stats_Transfermarktt_18_19_corr_SEP.csv')\n",
    "\n",
    "myDF2 = myDF2.union(myDF2bis)\n",
    "myDF2.createOrReplaceTempView(\"TransfermarktTable\")"
   ]
  },
  {
   "cell_type": "code",
   "execution_count": 116,
   "id": "be8f7647-e40f-4cb5-bfc3-e638884145d1",
   "metadata": {},
   "outputs": [
    {
     "name": "stdout",
     "output_type": "stream",
     "text": [
      "+---------------+------------+----+-----------+-------------------+----------------+----+------+\n",
      "|           Club|Nº jugadores|Edad|Extranjeros|Media valor mercado|Valor de mercado| Año|  Liga|\n",
      "+---------------+------------+----+-----------+-------------------+----------------+----+------+\n",
      "|      Barcelona|          32|25.1|         20|      25.42 mill. €|  813.50 mill. €|2020|laliga|\n",
      "|    Real Madrid|          37|24.8|         17|      21.28 mill. €|  787.30 mill. €|2020|laliga|\n",
      "|Atletico Madrid|          39|24.9|         21|      19.82 mill. €|  773.10 mill. €|2020|laliga|\n",
      "|        Sevilla|          38|25.6|         17|      11.01 mill. €|  418.25 mill. €|2020|laliga|\n",
      "|  Real Sociedad|          38|24.7|          6|      10.70 mill. €|  406.60 mill. €|2020|laliga|\n",
      "|     Villarreal|          36|25.9|         13|       8.13 mill. €|  292.60 mill. €|2020|laliga|\n",
      "|       Valencia|          35|24.7|         20|       7.97 mill. €|  278.85 mill. €|2020|laliga|\n",
      "|     Real Betis|          33|26.8|         12|       6.29 mill. €|  207.70 mill. €|2020|laliga|\n",
      "|  Athletic Club|          32|25.9|          2|       6.38 mill. €|  204.15 mill. €|2020|laliga|\n",
      "|         Getafe|          33|25.4|         19|       5.15 mill. €|  170.10 mill. €|2020|laliga|\n",
      "|     Celta Vigo|          41|24.3|         12|       3.80 mill. €|  155.85 mill. €|2020|laliga|\n",
      "|        Granada|          44|24.9|         17|       2.79 mill. €|  122.65 mill. €|2020|laliga|\n",
      "|        Levante|          34|26.5|         10|       3.32 mill. €|  113.00 mill. €|2020|laliga|\n",
      "|        Osasuna|          36|27.0|          7|       2.69 mill. €|   96.75 mill. €|2020|laliga|\n",
      "|          Eibar|          34|27.1|          9|       2.45 mill. €|   83.40 mill. €|2020|laliga|\n",
      "|         Alaves|          35|25.6|         10|       2.28 mill. €|   79.80 mill. €|2020|laliga|\n",
      "|      SD Huesca|          34|26.5|          8|       1.89 mill. €|   64.10 mill. €|2020|laliga|\n",
      "|Real Valladolid|          39|26.9|          9|       1.62 mill. €|   63.05 mill. €|2020|laliga|\n",
      "|          Cadiz|          41|27.2|         16|       1.16 mill. €|   47.65 mill. €|2020|laliga|\n",
      "|          Elche|          42|26.7|         15|       1.09 mill. €|   45.65 mill. €|2020|laliga|\n",
      "+---------------+------------+----+-----------+-------------------+----------------+----+------+\n",
      "only showing top 20 rows\n",
      "\n"
     ]
    }
   ],
   "source": [
    "spark.sql(\"SELECT * FROM TransfermarktTable\").show()"
   ]
  },
  {
   "cell_type": "code",
   "execution_count": 117,
   "id": "a95f3763-942d-41e5-890e-9ef9a160e496",
   "metadata": {},
   "outputs": [
    {
     "name": "stdout",
     "output_type": "stream",
     "text": [
      "+---------------+----+-------------------------+----+------+\n",
      "|           Club|Edad|Valor plantilla (mill. €)| Año|  Liga|\n",
      "+---------------+----+-------------------------+----+------+\n",
      "|      Barcelona|25.1|                   813.50|2020|laliga|\n",
      "|    Real Madrid|24.8|                   787.30|2020|laliga|\n",
      "|Atletico Madrid|24.9|                   773.10|2020|laliga|\n",
      "|        Sevilla|25.6|                   418.25|2020|laliga|\n",
      "|  Real Sociedad|24.7|                   406.60|2020|laliga|\n",
      "|     Villarreal|25.9|                   292.60|2020|laliga|\n",
      "|       Valencia|24.7|                   278.85|2020|laliga|\n",
      "|     Real Betis|26.8|                   207.70|2020|laliga|\n",
      "|  Athletic Club|25.9|                   204.15|2020|laliga|\n",
      "|         Getafe|25.4|                   170.10|2020|laliga|\n",
      "|     Celta Vigo|24.3|                   155.85|2020|laliga|\n",
      "|        Granada|24.9|                   122.65|2020|laliga|\n",
      "|        Levante|26.5|                   113.00|2020|laliga|\n",
      "|        Osasuna|27.0|                    96.75|2020|laliga|\n",
      "|          Eibar|27.1|                    83.40|2020|laliga|\n",
      "|         Alaves|25.6|                    79.80|2020|laliga|\n",
      "|      SD Huesca|26.5|                    64.10|2020|laliga|\n",
      "|Real Valladolid|26.9|                    63.05|2020|laliga|\n",
      "|          Cadiz|27.2|                    47.65|2020|laliga|\n",
      "|          Elche|26.7|                    45.65|2020|laliga|\n",
      "+---------------+----+-------------------------+----+------+\n",
      "only showing top 20 rows\n",
      "\n"
     ]
    }
   ],
   "source": [
    "DFTransfermarkt = myDF2\n",
    "DFTransfermarkt = myDF2.drop('Nº jugadores', 'Extranjeros', 'Media valor mercado') \\\n",
    "                        .withColumn('Valor de mercado',f.regexp_replace('Valor de mercado',' mil mill. €','')) \\\n",
    "                        .withColumn('Valor de mercado',f.regexp_replace('Valor de mercado',' mill. €','')) \\\n",
    "                        .withColumnRenamed('Valor de mercado','Valor plantilla (mill. €)')\n",
    "DFTransfermarkt.show()"
   ]
  },
  {
   "cell_type": "markdown",
   "id": "8dc02206-be96-42c4-8d21-2e3c1a283118",
   "metadata": {},
   "source": [
    "-- WHOSCORED --"
   ]
  },
  {
   "cell_type": "code",
   "execution_count": 118,
   "id": "ef9f7bc1-ff3a-49f1-ae8b-f36ddbb7eee6",
   "metadata": {},
   "outputs": [],
   "source": [
    "myDF3 = spark.read.format('csv') \\\n",
    ".option('inferSchema', 'true') \\\n",
    ".option('delimiter', ',') \\\n",
    ".option('header','true') \\\n",
    ".load('../webscrapingtfm/Stats_WhoScored_clean_sep.csv')\n",
    "myDF3bis = spark.read.format('csv') \\\n",
    ".option('inferSchema', 'true') \\\n",
    ".option('delimiter', ',') \\\n",
    ".option('header','true') \\\n",
    ".load('../webscrapingtfm/Stats_WhoScored_18_19_corr_SEP.csv')\n",
    "\n",
    "myDF3 = myDF3.union(myDF3bis)\n",
    "myDF3.createOrReplaceTempView(\"WhoScoredTable\")"
   ]
  },
  {
   "cell_type": "code",
   "execution_count": 119,
   "id": "95f67e85-71f1-4205-b878-a0bb849b11c2",
   "metadata": {},
   "outputs": [
    {
     "name": "stdout",
     "output_type": "stream",
     "text": [
      "+---------------+-----+--------+---------+-----+------------+----------------+------+------+----+-----------+\n",
      "|           Club|Goles|Tiros pp|Amarillas|Rojas|Posesión (%)|Acierto Pase (%)|Aéreos|Rating| Año|       Pais|\n",
      "+---------------+-----+--------+---------+-----+------------+----------------+------+------+----+-----------+\n",
      "|      Barcelona|   85|    15.3|       68|    2|        36.9|            89.7|  10.6|  6.87|2020|Espa%C3%B1a|\n",
      "|    Real Madrid|   67|    14.4|       57|    2|        57.7|            87.7|  11.8|  6.86|2020|Espa%C3%B1a|\n",
      "|Atletico Madrid|   67|    12.1|      100|    0|        51.8|            83.1|  14.4|  6.84|2020|Espa%C3%B1a|\n",
      "|        Sevilla|   53|    12.1|       75|    2|        58.7|            86.2|  16.6|   6.7|2020|Espa%C3%B1a|\n",
      "|     Villarreal|   60|    10.7|       65|    5|        54.3|            84.4|  13.0|  6.66|2020|Espa%C3%B1a|\n",
      "|  Real Sociedad|   59|    11.3|       81|    1|        53.7|            80.8|  17.9|  6.65|2020|Espa%C3%B1a|\n",
      "|     Real Betis|   50|    11.7|       87|    8|        52.9|            82.0|  16.4|  6.64|2020|Espa%C3%B1a|\n",
      "|       Valencia|   50|    10.3|       77|    5|        47.9|            79.4|  16.3|   6.6|2020|Espa%C3%B1a|\n",
      "|     Celta Vigo|   55|     9.4|      104|    5|        52.0|            79.9|  16.5|   6.6|2020|Espa%C3%B1a|\n",
      "|      SD Huesca|   34|    10.7|       68|    2|        48.7|            79.8|  15.7|  6.55|2020|Espa%C3%B1a|\n",
      "|  Athletic Club|   46|    10.6|       81|    3|        49.4|            78.5|  17.9|  6.54|2020|Espa%C3%B1a|\n",
      "|        Osasuna|   37|     9.8|       74|    5|        44.6|            70.2|  26.8|  6.54|2020|Espa%C3%B1a|\n",
      "|          Eibar|   29|    11.9|       67|    3|        49.2|            72.6|  24.4|  6.53|2020|Espa%C3%B1a|\n",
      "|         Alaves|   36|     9.1|       87|    8|        44.6|            72.9|  22.6|   6.5|2020|Espa%C3%B1a|\n",
      "|        Levante|   46|    10.1|       70|    1|        51.5|            80.1|  12.2|   6.5|2020|Espa%C3%B1a|\n",
      "|         Getafe|   28|     9.5|      117|    7|         8.9|            66.5|  22.8|  6.49|2020|Espa%C3%B1a|\n",
      "|          Elche|   34|     7.1|       95|    3|        48.1|            81.5|  13.2|  6.48|2020|Espa%C3%B1a|\n",
      "|        Granada|   47|     9.4|       96|    6|        43.4|            70.0|  18.3|  6.47|2020|Espa%C3%B1a|\n",
      "|          Cadiz|   36|     8.0|       77|    3|        38.5|            68.8|  18.5|  6.47|2020|Espa%C3%B1a|\n",
      "|Real Valladolid|   34|     9.7|       93|    4|        46.2|            74.8|  17.1|  6.46|2020|Espa%C3%B1a|\n",
      "+---------------+-----+--------+---------+-----+------------+----------------+------+------+----+-----------+\n",
      "only showing top 20 rows\n",
      "\n"
     ]
    }
   ],
   "source": [
    "spark.sql(\"SELECT * FROM WhoScoredTable\").show()"
   ]
  },
  {
   "cell_type": "code",
   "execution_count": 120,
   "id": "fdbb2e43-ae0d-48f9-8c2f-3c13f63b8256",
   "metadata": {},
   "outputs": [
    {
     "name": "stdout",
     "output_type": "stream",
     "text": [
      "+---------------+---------+-----+------------+----------------+------+----+------+\n",
      "|           Club|Amarillas|Rojas|Posesión (%)|Acierto Pase (%)|Rating| Año|  Pais|\n",
      "+---------------+---------+-----+------------+----------------+------+----+------+\n",
      "|      Barcelona|       68|    2|        36.9|            89.7|  6.87|2020|España|\n",
      "|    Real Madrid|       57|    2|        57.7|            87.7|  6.86|2020|España|\n",
      "|Atletico Madrid|      100|    0|        51.8|            83.1|  6.84|2020|España|\n",
      "|        Sevilla|       75|    2|        58.7|            86.2|   6.7|2020|España|\n",
      "|     Villarreal|       65|    5|        54.3|            84.4|  6.66|2020|España|\n",
      "|  Real Sociedad|       81|    1|        53.7|            80.8|  6.65|2020|España|\n",
      "|     Real Betis|       87|    8|        52.9|            82.0|  6.64|2020|España|\n",
      "|       Valencia|       77|    5|        47.9|            79.4|   6.6|2020|España|\n",
      "|     Celta Vigo|      104|    5|        52.0|            79.9|   6.6|2020|España|\n",
      "|      SD Huesca|       68|    2|        48.7|            79.8|  6.55|2020|España|\n",
      "|  Athletic Club|       81|    3|        49.4|            78.5|  6.54|2020|España|\n",
      "|        Osasuna|       74|    5|        44.6|            70.2|  6.54|2020|España|\n",
      "|          Eibar|       67|    3|        49.2|            72.6|  6.53|2020|España|\n",
      "|         Alaves|       87|    8|        44.6|            72.9|   6.5|2020|España|\n",
      "|        Levante|       70|    1|        51.5|            80.1|   6.5|2020|España|\n",
      "|         Getafe|      117|    7|         8.9|            66.5|  6.49|2020|España|\n",
      "|          Elche|       95|    3|        48.1|            81.5|  6.48|2020|España|\n",
      "|        Granada|       96|    6|        43.4|            70.0|  6.47|2020|España|\n",
      "|          Cadiz|       77|    3|        38.5|            68.8|  6.47|2020|España|\n",
      "|Real Valladolid|       93|    4|        46.2|            74.8|  6.46|2020|España|\n",
      "+---------------+---------+-----+------------+----------------+------+----+------+\n",
      "only showing top 20 rows\n",
      "\n"
     ]
    }
   ],
   "source": [
    "DFWhoScored = myDF3\n",
    "DFWhoScored = myDF3.drop('Goles', 'Tiros pp', 'Aéreos') \\\n",
    "                            .withColumn('Pais',f.regexp_replace('Pais','Espa%C3%B1a','España'))\n",
    "DFWhoScored.show()"
   ]
  },
  {
   "cell_type": "markdown",
   "id": "f0236eba-b3e4-4b1f-8298-b16bbcf74aaf",
   "metadata": {},
   "source": [
    "UNION DE ARCHIVOS"
   ]
  },
  {
   "cell_type": "code",
   "execution_count": 121,
   "id": "3bf4bf49-ed60-4dad-b3bb-c8379bf88f50",
   "metadata": {},
   "outputs": [
    {
     "name": "stdout",
     "output_type": "stream",
     "text": [
      "+--------+----+---------+--------+-------+------+--------+-------+----+-------------------------+---------+-----+------------+----------------+------+-------+\n",
      "|    Club| Año|Formation|sum(Min)|sum(Sh)|sum(G)|sum(ShA)|sum(GA)|Edad|Valor plantilla (mill. €)|Amarillas|Rojas|Posesión (%)|Acierto Pase (%)|Rating|   Pais|\n",
      "+--------+----+---------+--------+-------+------+--------+-------+----+-------------------------+---------+-----+------------+----------------+------+-------+\n",
      "|AC Milan|2022|  4-2-3-1|    1489|    248|    31|     183|     22|26.3|                   574.40|       50|    2|        54.8|            81.2|  6.66| Italia|\n",
      "|AC Milan|2022|    4-3-3|     103|     21|     2|      11|      0|26.3|                   574.40|       50|    2|        54.8|            81.2|  6.66| Italia|\n",
      "|AC Milan|2022|    5-3-2|      81|     10|     1|      11|      2|26.3|                   574.40|       50|    2|        54.8|            81.2|  6.66| Italia|\n",
      "|AC Milan|2022|    3-5-2|      60|     13|     0|       2|      0|26.3|                   574.40|       50|    2|        54.8|            81.2|  6.66| Italia|\n",
      "|AC Milan|2022|    4-4-2|      37|      6|     1|       2|      0|26.3|                   574.40|       50|    2|        54.8|            81.2|  6.66| Italia|\n",
      "|AC Milan|2022|    3-4-3|      35|      3|     0|       4|      0|26.3|                   574.40|       50|    2|        54.8|            81.2|  6.66| Italia|\n",
      "|AC Milan|2022|    5-4-1|      10|      2|     0|       4|      0|26.3|                   574.40|       50|    2|        54.8|            81.2|  6.66| Italia|\n",
      "| Ajaccio|2022|    4-4-2|    1629|    181|    15|     186|     26|28.6|                    24.65|       43|    4|        44.7|            75.7|  6.38|Francia|\n",
      "| Ajaccio|2022|    4-3-3|      86|      3|     0|       9|      3|28.6|                    24.65|       43|    4|        44.7|            75.7|  6.38|Francia|\n",
      "| Ajaccio|2022|    5-4-1|      48|      2|     1|       6|      5|28.6|                    24.65|       43|    4|        44.7|            75.7|  6.38|Francia|\n",
      "| Ajaccio|2022|    4-5-1|      18|      0|     0|       5|      0|28.6|                    24.65|       43|    4|        44.7|            75.7|  6.38|Francia|\n",
      "| Almeria|2022|    4-3-3|     863|    118|    12|     104|     12|25.5|                   100.20|       52|    3|        46.1|            79.4|  6.49| España|\n",
      "| Almeria|2022|    5-3-2|     450|     43|     2|      88|     11|25.5|                   100.20|       52|    3|        46.1|            79.4|  6.49| España|\n",
      "| Almeria|2022|  4-2-3-1|     267|     29|     6|      35|      3|25.5|                   100.20|       52|    3|        46.1|            79.4|  6.49| España|\n",
      "| Almeria|2022|    3-5-2|     191|     23|     3|      26|      2|25.5|                   100.20|       52|    3|        46.1|            79.4|  6.49| España|\n",
      "| Almeria|2022|    4-4-2|      14|      1|     0|       0|      0|25.5|                   100.20|       52|    3|        46.1|            79.4|  6.49| España|\n",
      "| Almeria|2022|    3-4-3|      14|      4|     0|       4|      1|25.5|                   100.20|       52|    3|        46.1|            79.4|  6.49| España|\n",
      "| Almeria|2022|    5-4-1|      13|      2|     0|       1|      0|25.5|                   100.20|       52|    3|        46.1|            79.4|  6.49| España|\n",
      "| Almeria|2022|    4-5-1|       6|      1|     0|       1|      0|25.5|                   100.20|       52|    3|        46.1|            79.4|  6.49| España|\n",
      "|  Angers|2022|  4-2-3-1|     770|     93|     6|      93|     11|24.7|                    60.50|       35|    3|        47.5|            82.7|  6.41|Francia|\n",
      "+--------+----+---------+--------+-------+------+--------+-------+----+-------------------------+---------+-----+------------+----------------+------+-------+\n",
      "only showing top 20 rows\n",
      "\n"
     ]
    }
   ],
   "source": [
    "DFGlobal = DFUnderstat.join(DFTransfermarkt,['Club','Año']) \\\n",
    "                    .join(DFWhoScored,['Club','Año']) \\\n",
    "                    .drop('Liga') \\\n",
    "                    .orderBy(f.desc('Año'),'Club',f.desc('sum(Min)'))\n",
    "DFGlobal.show()"
   ]
  },
  {
   "cell_type": "code",
   "execution_count": 122,
   "id": "f0aafe77-4bdc-452c-aeb3-6b890bfd2a7c",
   "metadata": {},
   "outputs": [],
   "source": [
    "DFGlobal.write.csv('Stats_Global_18_22',header = True)"
   ]
  },
  {
   "cell_type": "code",
   "execution_count": 123,
   "id": "e3442601-78b9-4388-8232-9b3bfefc9d5d",
   "metadata": {},
   "outputs": [],
   "source": [
    "sc.stop()"
   ]
  },
  {
   "cell_type": "code",
   "execution_count": null,
   "id": "91acdb7c-cd49-4ed8-8405-1af78f44d8e8",
   "metadata": {},
   "outputs": [],
   "source": []
  }
 ],
 "metadata": {
  "kernelspec": {
   "display_name": "Python 3 (ipykernel)",
   "language": "python",
   "name": "python3"
  },
  "language_info": {
   "codemirror_mode": {
    "name": "ipython",
    "version": 3
   },
   "file_extension": ".py",
   "mimetype": "text/x-python",
   "name": "python",
   "nbconvert_exporter": "python",
   "pygments_lexer": "ipython3",
   "version": "3.8.16"
  }
 },
 "nbformat": 4,
 "nbformat_minor": 5
}
